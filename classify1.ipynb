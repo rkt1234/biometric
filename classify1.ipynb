{
 "cells": [
  {
   "cell_type": "code",
   "execution_count": 37,
   "metadata": {},
   "outputs": [],
   "source": [
    "import tensorflow as tf\n",
    "from tensorflow import keras\n",
    "from keras import Sequential, optimizers\n",
    "from keras.layers import Dense,Conv2D,MaxPooling2D,Flatten,BatchNormalization\n",
    "from keras.utils import image_dataset_from_directory"
   ]
  },
  {
   "cell_type": "code",
   "execution_count": 38,
   "metadata": {},
   "outputs": [
    {
     "name": "stdout",
     "output_type": "stream",
     "text": [
      "True\n",
      "True\n"
     ]
    }
   ],
   "source": [
    "# import tensorflow as tf\n",
    "\n",
    "print(tf.test.is_gpu_available())\n",
    "print( tf.test.is_built_with_cuda())\n"
   ]
  },
  {
   "cell_type": "code",
   "execution_count": 39,
   "metadata": {},
   "outputs": [
    {
     "name": "stdout",
     "output_type": "stream",
     "text": [
      "Found 14293 files belonging to 163 classes.\n",
      "<class 'tensorflow.python.data.ops.dataset_ops.BatchDataset'>\n",
      "['Person_1', 'Person_10', 'Person_100', 'Person_101', 'Person_102', 'Person_103', 'Person_104', 'Person_105', 'Person_106', 'Person_107', 'Person_108', 'Person_109', 'Person_11', 'Person_110', 'Person_111', 'Person_112', 'Person_113', 'Person_114', 'Person_115', 'Person_116', 'Person_117', 'Person_118', 'Person_119', 'Person_12', 'Person_120', 'Person_121', 'Person_122', 'Person_123', 'Person_124', 'Person_125', 'Person_126', 'Person_127', 'Person_128', 'Person_129', 'Person_13', 'Person_130', 'Person_131', 'Person_132', 'Person_133', 'Person_134', 'Person_135', 'Person_136', 'Person_137', 'Person_138', 'Person_139', 'Person_14', 'Person_140', 'Person_141', 'Person_142', 'Person_143', 'Person_144', 'Person_145', 'Person_146', 'Person_147', 'Person_148', 'Person_149', 'Person_15', 'Person_150', 'Person_151', 'Person_152', 'Person_153', 'Person_154', 'Person_155', 'Person_156', 'Person_157', 'Person_158', 'Person_159', 'Person_160', 'Person_161', 'Person_162', 'Person_163', 'Person_164', 'Person_165', 'Person_166', 'Person_167', 'Person_17', 'Person_18', 'Person_19', 'Person_2', 'Person_20', 'Person_21', 'Person_22', 'Person_23', 'Person_24', 'Person_25', 'Person_26', 'Person_27', 'Person_28', 'Person_29', 'Person_3', 'Person_30', 'Person_31', 'Person_32', 'Person_33', 'Person_34', 'Person_35', 'Person_36', 'Person_37', 'Person_38', 'Person_39', 'Person_4', 'Person_40', 'Person_41', 'Person_42', 'Person_43', 'Person_44', 'Person_45', 'Person_46', 'Person_47', 'Person_48', 'Person_49', 'Person_5', 'Person_50', 'Person_51', 'Person_53', 'Person_54', 'Person_55', 'Person_56', 'Person_57', 'Person_58', 'Person_59', 'Person_60', 'Person_61', 'Person_62', 'Person_63', 'Person_64', 'Person_65', 'Person_66', 'Person_67', 'Person_68', 'Person_69', 'Person_7', 'Person_70', 'Person_71', 'Person_72', 'Person_73', 'Person_74', 'Person_75', 'Person_76', 'Person_77', 'Person_78', 'Person_79', 'Person_8', 'Person_80', 'Person_81', 'Person_82', 'Person_83', 'Person_84', 'Person_85', 'Person_87', 'Person_88', 'Person_89', 'Person_9', 'Person_90', 'Person_91', 'Person_92', 'Person_93', 'Person_94', 'Person_95', 'Person_96', 'Person_97', 'Person_98', 'Person_99']\n",
      "44\n"
     ]
    }
   ],
   "source": [
    "from math import floor\n",
    "import random\n",
    "\n",
    "\n",
    "image_ds = keras.utils.image_dataset_from_directory(\n",
    "    directory=r\"C:\\Users\\RAVIKANT TIWARI\\Desktop\\final year project\",\n",
    "    labels='inferred',\n",
    "    label_mode='int',\n",
    "    batch_size=32,\n",
    "    image_size=(256, 256),\n",
    "    shuffle=True,\n",
    "    seed=123\n",
    ")\n",
    "print(type(image_ds))\n",
    "print(image_ds.class_names)\n",
    "train_size=floor(len(image_ds)*.8)\n",
    "val_size=floor(len(image_ds)*.1)\n",
    "test_size=floor(len(image_ds)*.1)\n",
    "print(test_size)\n",
    "train_ds=image_ds.take(train_size)\n",
    "val_ds=image_ds.skip(train_size).take(val_size)\n",
    "test_ds=image_ds.skip(train_size+val_size).take(test_size)"
   ]
  },
  {
   "cell_type": "code",
   "execution_count": 40,
   "metadata": {},
   "outputs": [],
   "source": [
    "# Normalize\n",
    "def process(image,label):\n",
    "    image = tf.cast(image/255. ,tf.float32)\n",
    "    return image,label\n",
    "\n",
    "train_ds = train_ds.map(process)\n",
    "val_ds = val_ds.map(process)\n",
    "test_ds=test_ds.map(process)"
   ]
  },
  {
   "cell_type": "code",
   "execution_count": 41,
   "metadata": {},
   "outputs": [],
   "source": [
    "model = Sequential()\n",
    "model.add(Conv2D(filters=32, kernel_size=(3, 3), strides=1,padding='same', activation='relu', input_shape=(256, 256, 3)))    \n",
    "model.add(MaxPooling2D(pool_size=(2,2), strides=2))\n",
    "model.add(Conv2D(filters=64, kernel_size=(3,3), padding='same', activation='relu'))\n",
    "model.add(MaxPooling2D(pool_size=(2,2), strides=2))\n",
    "model.add(Flatten())\n",
    "model.add(Dense(64, activation='relu'))\n",
    "model.add(Dense(163, activation='softmax'))\n"
   ]
  },
  {
   "cell_type": "code",
   "execution_count": 42,
   "metadata": {},
   "outputs": [
    {
     "name": "stdout",
     "output_type": "stream",
     "text": [
      "Model: \"sequential_3\"\n",
      "_________________________________________________________________\n",
      " Layer (type)                Output Shape              Param #   \n",
      "=================================================================\n",
      " conv2d_6 (Conv2D)           (None, 256, 256, 32)      896       \n",
      "                                                                 \n",
      " max_pooling2d_6 (MaxPooling  (None, 128, 128, 32)     0         \n",
      " 2D)                                                             \n",
      "                                                                 \n",
      " conv2d_7 (Conv2D)           (None, 128, 128, 64)      18496     \n",
      "                                                                 \n",
      " max_pooling2d_7 (MaxPooling  (None, 64, 64, 64)       0         \n",
      " 2D)                                                             \n",
      "                                                                 \n",
      " flatten_3 (Flatten)         (None, 262144)            0         \n",
      "                                                                 \n",
      " dense_6 (Dense)             (None, 64)                16777280  \n",
      "                                                                 \n",
      " dense_7 (Dense)             (None, 163)               10595     \n",
      "                                                                 \n",
      "=================================================================\n",
      "Total params: 16,807,267\n",
      "Trainable params: 16,807,267\n",
      "Non-trainable params: 0\n",
      "_________________________________________________________________\n"
     ]
    }
   ],
   "source": [
    "model.summary()"
   ]
  },
  {
   "cell_type": "code",
   "execution_count": 43,
   "metadata": {},
   "outputs": [],
   "source": [
    "model.compile(loss = 'sparse_categorical_crossentropy',\n",
    "            optimizer = 'adam',\n",
    "            metrics = ['accuracy'])"
   ]
  },
  {
   "cell_type": "code",
   "execution_count": 44,
   "metadata": {},
   "outputs": [
    {
     "name": "stdout",
     "output_type": "stream",
     "text": [
      "Epoch 1/10\n"
     ]
    },
    {
     "name": "stdout",
     "output_type": "stream",
     "text": [
      "357/357 [==============================] - 77s 207ms/step - loss: 3.8744 - accuracy: 0.1626 - val_loss: 1.8288 - val_accuracy: 0.5376\n",
      "Epoch 2/10\n",
      "357/357 [==============================] - 87s 242ms/step - loss: 1.0627 - accuracy: 0.7110 - val_loss: 0.8898 - val_accuracy: 0.7699\n",
      "Epoch 3/10\n",
      "357/357 [==============================] - 67s 186ms/step - loss: 0.3139 - accuracy: 0.9119 - val_loss: 0.6578 - val_accuracy: 0.8416\n",
      "Epoch 4/10\n",
      "357/357 [==============================] - 68s 189ms/step - loss: 0.1257 - accuracy: 0.9650 - val_loss: 0.6319 - val_accuracy: 0.8636\n",
      "Epoch 5/10\n",
      "357/357 [==============================] - 71s 196ms/step - loss: 0.0756 - accuracy: 0.9784 - val_loss: 0.6488 - val_accuracy: 0.8651\n",
      "Epoch 6/10\n",
      "357/357 [==============================] - 66s 183ms/step - loss: 0.0901 - accuracy: 0.9738 - val_loss: 0.7907 - val_accuracy: 0.8303\n",
      "Epoch 7/10\n",
      "357/357 [==============================] - 92s 255ms/step - loss: 0.0709 - accuracy: 0.9793 - val_loss: 0.6655 - val_accuracy: 0.8643\n",
      "Epoch 8/10\n",
      "357/357 [==============================] - 74s 206ms/step - loss: 0.0667 - accuracy: 0.9804 - val_loss: 0.7134 - val_accuracy: 0.8537\n",
      "Epoch 9/10\n",
      "357/357 [==============================] - 65s 180ms/step - loss: 0.0614 - accuracy: 0.9807 - val_loss: 0.6985 - val_accuracy: 0.8565\n",
      "Epoch 10/10\n",
      "357/357 [==============================] - 113s 316ms/step - loss: 0.0661 - accuracy: 0.9795 - val_loss: 0.6376 - val_accuracy: 0.8835\n"
     ]
    }
   ],
   "source": [
    "es = keras.callbacks.EarlyStopping(monitor='val_loss', \n",
    "                                   mode='min',\n",
    "                                   patience=10, \n",
    "                                   )\n",
    "history = model.fit(train_ds,epochs=10,validation_data=val_ds,verbose=1,callbacks=es,)"
   ]
  },
  {
   "cell_type": "code",
   "execution_count": 45,
   "metadata": {},
   "outputs": [
    {
     "name": "stdout",
     "output_type": "stream",
     "text": [
      "86\n"
     ]
    }
   ],
   "source": [
    "scores = model.evaluate(test_ds,verbose=0)\n",
    "print(int(scores[1]*100))"
   ]
  },
  {
   "cell_type": "code",
   "execution_count": 46,
   "metadata": {},
   "outputs": [
    {
     "data": {
      "image/png": "[encoded data removed]",
      "text/plain": [
       "<Figure size 640x480 with 1 Axes>"
      ]
     },
     "metadata": {},
     "output_type": "display_data"
    }
   ],
   "source": [
    "import matplotlib.pyplot as plt\n",
    "\n",
    "plt.plot(history.history['accuracy'],color='red',label='train')\n",
    "plt.plot(history.history['val_accuracy'],color='blue',label='validation')\n",
    "# plt.plot(history.history['test_accuracy'], color='green', label='test')\n",
    "plt.legend()\n",
    "plt.show()"
   ]
  },
  {
   "cell_type": "code",
   "execution_count": 47,
   "metadata": {},
   "outputs": [
    {
     "data": {
      "image/png": "[encoded data removed]",
      "text/plain": [
       "<Figure size 640x480 with 1 Axes>"
      ]
     },
     "metadata": {},
     "output_type": "display_data"
    }
   ],
   "source": [
    "plt.plot(history.history['loss'],color='red',label='train')\n",
    "plt.plot(history.history['val_loss'],color='blue',label='validation')\n",
    "plt.legend()\n",
    "plt.show()"
   ]
  },
  {
   "cell_type": "code",
   "execution_count": 48,
   "metadata": {},
   "outputs": [],
   "source": [
    "#save the trained model\n",
    "# model.save('biometric1.h5')"
   ]
  }
 ],
 "metadata": {
  "kernelspec": {
   "display_name": "Python 3",
   "language": "python",
   "name": "python3"
  },
  "language_info": {
   "codemirror_mode": {
    "name": "ipython",
    "version": 3
   },
   "file_extension": ".py",
   "mimetype": "text/x-python",
   "name": "python",
   "nbconvert_exporter": "python",
   "pygments_lexer": "ipython3",
   "version": "3.10.6"
  },
  "orig_nbformat": 4
 },
 "nbformat": 4,
 "nbformat_minor": 2
}
