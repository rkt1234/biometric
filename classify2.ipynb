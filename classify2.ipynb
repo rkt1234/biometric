{
 "cells": [
  {
   "cell_type": "code",
   "execution_count": 1,
   "metadata": {},
   "outputs": [],
   "source": [
    "import tensorflow as tf\n",
    "from tensorflow import keras\n",
    "from keras import Sequential, optimizers\n",
    "from keras.layers import Dense,Conv2D,MaxPooling2D,Flatten,BatchNormalization\n",
    "from keras.utils import image_dataset_from_directory"
   ]
  },
  {
   "cell_type": "code",
   "execution_count": 2,
   "metadata": {},
   "outputs": [
    {
     "name": "stdout",
     "output_type": "stream",
     "text": [
      "WARNING:tensorflow:From C:\\Users\\RAVIKANT TIWARI\\AppData\\Local\\Temp\\ipykernel_17040\\4233294393.py:3: is_gpu_available (from tensorflow.python.framework.test_util) is deprecated and will be removed in a future version.\n",
      "Instructions for updating:\n",
      "Use `tf.config.list_physical_devices('GPU')` instead.\n",
      "True\n",
      "True\n"
     ]
    }
   ],
   "source": [
    "# import tensorflow as tf\n",
    "\n",
    "print(tf.test.is_gpu_available())\n",
    "print( tf.test.is_built_with_cuda())\n"
   ]
  },
  {
   "cell_type": "code",
   "execution_count": 3,
   "metadata": {},
   "outputs": [
    {
     "name": "stdout",
     "output_type": "stream",
     "text": [
      "Found 14293 files belonging to 163 classes.\n",
      "<class 'tensorflow.python.data.ops.dataset_ops.BatchDataset'>\n",
      "['Person_1', 'Person_10', 'Person_100', 'Person_101', 'Person_102', 'Person_103', 'Person_104', 'Person_105', 'Person_106', 'Person_107', 'Person_108', 'Person_109', 'Person_11', 'Person_110', 'Person_111', 'Person_112', 'Person_113', 'Person_114', 'Person_115', 'Person_116', 'Person_117', 'Person_118', 'Person_119', 'Person_12', 'Person_120', 'Person_121', 'Person_122', 'Person_123', 'Person_124', 'Person_125', 'Person_126', 'Person_127', 'Person_128', 'Person_129', 'Person_13', 'Person_130', 'Person_131', 'Person_132', 'Person_133', 'Person_134', 'Person_135', 'Person_136', 'Person_137', 'Person_138', 'Person_139', 'Person_14', 'Person_140', 'Person_141', 'Person_142', 'Person_143', 'Person_144', 'Person_145', 'Person_146', 'Person_147', 'Person_148', 'Person_149', 'Person_15', 'Person_150', 'Person_151', 'Person_152', 'Person_153', 'Person_154', 'Person_155', 'Person_156', 'Person_157', 'Person_158', 'Person_159', 'Person_160', 'Person_161', 'Person_162', 'Person_163', 'Person_164', 'Person_165', 'Person_166', 'Person_167', 'Person_17', 'Person_18', 'Person_19', 'Person_2', 'Person_20', 'Person_21', 'Person_22', 'Person_23', 'Person_24', 'Person_25', 'Person_26', 'Person_27', 'Person_28', 'Person_29', 'Person_3', 'Person_30', 'Person_31', 'Person_32', 'Person_33', 'Person_34', 'Person_35', 'Person_36', 'Person_37', 'Person_38', 'Person_39', 'Person_4', 'Person_40', 'Person_41', 'Person_42', 'Person_43', 'Person_44', 'Person_45', 'Person_46', 'Person_47', 'Person_48', 'Person_49', 'Person_5', 'Person_50', 'Person_51', 'Person_53', 'Person_54', 'Person_55', 'Person_56', 'Person_57', 'Person_58', 'Person_59', 'Person_60', 'Person_61', 'Person_62', 'Person_63', 'Person_64', 'Person_65', 'Person_66', 'Person_67', 'Person_68', 'Person_69', 'Person_7', 'Person_70', 'Person_71', 'Person_72', 'Person_73', 'Person_74', 'Person_75', 'Person_76', 'Person_77', 'Person_78', 'Person_79', 'Person_8', 'Person_80', 'Person_81', 'Person_82', 'Person_83', 'Person_84', 'Person_85', 'Person_87', 'Person_88', 'Person_89', 'Person_9', 'Person_90', 'Person_91', 'Person_92', 'Person_93', 'Person_94', 'Person_95', 'Person_96', 'Person_97', 'Person_98', 'Person_99']\n",
      "89\n"
     ]
    }
   ],
   "source": [
    "from math import floor\n",
    "import random\n",
    "\n",
    "\n",
    "image_ds = keras.utils.image_dataset_from_directory(\n",
    "    directory=r\"C:\\Users\\RAVIKANT TIWARI\\Desktop\\3rd year project\",\n",
    "    labels='inferred',\n",
    "    label_mode='int',\n",
    "    batch_size=32,\n",
    "    image_size=(256, 256),\n",
    "    shuffle=True,\n",
    "    seed=123\n",
    ")\n",
    "print(type(image_ds))\n",
    "print(image_ds.class_names)\n",
    "train_size=floor(len(image_ds)*.6)\n",
    "val_size=floor(len(image_ds)*.2)\n",
    "test_size=floor(len(image_ds)*.2)\n",
    "print(test_size)\n",
    "train_ds=image_ds.take(train_size)\n",
    "val_ds=image_ds.skip(train_size).take(val_size)\n",
    "test_ds=image_ds.skip(train_size+val_size).take(test_size)"
   ]
  },
  {
   "cell_type": "code",
   "execution_count": 4,
   "metadata": {},
   "outputs": [],
   "source": [
    "# Normalize\n",
    "def process(image,label):\n",
    "    image = tf.cast(image/255. ,tf.float32)\n",
    "    return image,label\n",
    "\n",
    "train_ds = train_ds.map(process)\n",
    "val_ds = val_ds.map(process)\n",
    "test_ds=test_ds.map(process)"
   ]
  },
  {
   "cell_type": "code",
   "execution_count": 5,
   "metadata": {},
   "outputs": [],
   "source": [
    "model = Sequential()\n",
    "model.add(Conv2D(filters=32, kernel_size=(3, 3), strides=1,\n",
    "          padding='same', activation='relu', input_shape=(256, 256, 3)))    \n",
    "# model.add(BatchNormalization())\n",
    "model.add(MaxPooling2D(pool_size=(2,2), strides=2))\n",
    "\n",
    "\n",
    "\n",
    "model.add(Conv2D(filters=64, kernel_size=(\n",
    "    3,3), padding='same', activation='relu'))\n",
    "# model.add(BatchNormalization())\n",
    "model.add(MaxPooling2D(pool_size=(2,2), strides=2))\n",
    "# model.add(Conv2D(filters=64, kernel_size=(\n",
    "#     3,3), padding='same', activation='relu'))\n",
    "# model.add(MaxPooling2D(pool_size=(2,2), strides=2))\n",
    "# model.add(Conv2D(filters=64, kernel_size=(\n",
    "#     3,3), padding='same', activation='relu'))\n",
    "# model.add(MaxPooling2D(pool_size=(2,2), strides=2))\n",
    "# model.add(Conv2D(filters=64, kernel_size=(\n",
    "#     3,3), padding='same', activation='relu'))\n",
    "# model.add(MaxPooling2D(pool_size=(2,2), strides=2))\n",
    "# model.add(Conv2D(filters=64, kernel_size=(\n",
    "#     3,3), padding='same', activation='relu'))\n",
    "# model.add(MaxPooling2D(pool_size=(2,2), strides=2))\n",
    "\n",
    "\n",
    "model.add(Flatten())\n",
    "model.add(Dense(64, activation='relu'))\n",
    "model.add(Dense(164, activation='softmax'))\n"
   ]
  },
  {
   "cell_type": "code",
   "execution_count": 6,
   "metadata": {},
   "outputs": [
    {
     "name": "stdout",
     "output_type": "stream",
     "text": [
      "Model: \"sequential\"\n",
      "_________________________________________________________________\n",
      " Layer (type)                Output Shape              Param #   \n",
      "=================================================================\n",
      " conv2d (Conv2D)             (None, 256, 256, 32)      896       \n",
      "                                                                 \n",
      " max_pooling2d (MaxPooling2D  (None, 128, 128, 32)     0         \n",
      " )                                                               \n",
      "                                                                 \n",
      " conv2d_1 (Conv2D)           (None, 128, 128, 64)      18496     \n",
      "                                                                 \n",
      " max_pooling2d_1 (MaxPooling  (None, 64, 64, 64)       0         \n",
      " 2D)                                                             \n",
      "                                                                 \n",
      " flatten (Flatten)           (None, 262144)            0         \n",
      "                                                                 \n",
      " dense (Dense)               (None, 64)                16777280  \n",
      "                                                                 \n",
      " dense_1 (Dense)             (None, 164)               10660     \n",
      "                                                                 \n",
      "=================================================================\n",
      "Total params: 16,807,332\n",
      "Trainable params: 16,807,332\n",
      "Non-trainable params: 0\n",
      "_________________________________________________________________\n"
     ]
    }
   ],
   "source": [
    "model.summary()"
   ]
  },
  {
   "cell_type": "code",
   "execution_count": 7,
   "metadata": {},
   "outputs": [],
   "source": [
    "model.compile(loss = 'sparse_categorical_crossentropy',\n",
    "            optimizer = 'adam',\n",
    "            metrics = ['accuracy'])"
   ]
  },
  {
   "cell_type": "code",
   "execution_count": 8,
   "metadata": {},
   "outputs": [
    {
     "name": "stdout",
     "output_type": "stream",
     "text": [
      "Epoch 1/20\n",
      "268/268 [==============================] - 81s 203ms/step - loss: 4.7011 - accuracy: 0.0546 - val_loss: 3.1206 - val_accuracy: 0.2669\n",
      "Epoch 2/20\n",
      "268/268 [==============================] - 48s 178ms/step - loss: 1.7429 - accuracy: 0.5447 - val_loss: 1.3114 - val_accuracy: 0.6541\n",
      "Epoch 3/20\n",
      "268/268 [==============================] - 48s 178ms/step - loss: 0.4647 - accuracy: 0.8649 - val_loss: 1.0523 - val_accuracy: 0.7405\n",
      "Epoch 4/20\n",
      "268/268 [==============================] - 45s 166ms/step - loss: 0.1396 - accuracy: 0.9597 - val_loss: 1.0134 - val_accuracy: 0.7630\n",
      "Epoch 5/20\n",
      "268/268 [==============================] - 45s 166ms/step - loss: 0.0815 - accuracy: 0.9778 - val_loss: 1.1125 - val_accuracy: 0.7602\n",
      "Epoch 6/20\n",
      "268/268 [==============================] - 44s 161ms/step - loss: 0.0540 - accuracy: 0.9845 - val_loss: 1.1529 - val_accuracy: 0.7598\n",
      "Epoch 7/20\n",
      "268/268 [==============================] - 44s 163ms/step - loss: 0.0719 - accuracy: 0.9791 - val_loss: 1.2238 - val_accuracy: 0.7556\n",
      "Epoch 8/20\n",
      "268/268 [==============================] - 43s 160ms/step - loss: 0.0767 - accuracy: 0.9750 - val_loss: 1.3524 - val_accuracy: 0.7405\n",
      "Epoch 9/20\n",
      "268/268 [==============================] - 47s 175ms/step - loss: 0.0621 - accuracy: 0.9817 - val_loss: 1.2165 - val_accuracy: 0.7654\n",
      "Epoch 10/20\n",
      "268/268 [==============================] - 47s 174ms/step - loss: 0.0520 - accuracy: 0.9855 - val_loss: 1.1606 - val_accuracy: 0.7788\n",
      "Epoch 11/20\n",
      "268/268 [==============================] - 43s 161ms/step - loss: 0.0453 - accuracy: 0.9855 - val_loss: 1.2901 - val_accuracy: 0.7697\n",
      "Epoch 12/20\n",
      "268/268 [==============================] - 44s 161ms/step - loss: 0.0333 - accuracy: 0.9892 - val_loss: 1.2663 - val_accuracy: 0.7827\n",
      "Epoch 13/20\n",
      "268/268 [==============================] - 43s 160ms/step - loss: 0.0308 - accuracy: 0.9904 - val_loss: 1.1776 - val_accuracy: 0.7883\n",
      "Epoch 14/20\n",
      "268/268 [==============================] - 46s 171ms/step - loss: 0.0264 - accuracy: 0.9929 - val_loss: 1.3510 - val_accuracy: 0.7781\n"
     ]
    }
   ],
   "source": [
    "es = keras.callbacks.EarlyStopping(monitor='val_loss', \n",
    "                                   mode='min',\n",
    "                                   patience=10, \n",
    "                                   )\n",
    "history = model.fit(train_ds,epochs=20,validation_data=val_ds,verbose=1,callbacks=es,)"
   ]
  },
  {
   "cell_type": "code",
   "execution_count": 13,
   "metadata": {},
   "outputs": [
    {
     "name": "stdout",
     "output_type": "stream",
     "text": [
      "78\n"
     ]
    }
   ],
   "source": [
    "scores = model.evaluate(test_ds,verbose=0)\n",
    "print(int(scores[1]*100))"
   ]
  },
  {
   "cell_type": "code",
   "execution_count": 10,
   "metadata": {},
   "outputs": [
    {
     "data": {
      "image/png": "[encoded data removed]",
      "text/plain": [
       "<Figure size 640x480 with 1 Axes>"
      ]
     },
     "metadata": {},
     "output_type": "display_data"
    }
   ],
   "source": [
    "import matplotlib.pyplot as plt\n",
    "\n",
    "plt.plot(history.history['accuracy'],color='red',label='train')\n",
    "plt.plot(history.history['val_accuracy'],color='blue',label='validation')\n",
    "# plt.plot(history.history['test_accuracy'], color='green', label='test')\n",
    "plt.legend()\n",
    "plt.show()"
   ]
  },
  {
   "cell_type": "code",
   "execution_count": 11,
   "metadata": {},
   "outputs": [
    {
     "data": {
      "image/png": "[encoded data removed]",
      "text/plain": [
       "<Figure size 640x480 with 1 Axes>"
      ]
     },
     "metadata": {},
     "output_type": "display_data"
    }
   ],
   "source": [
    "plt.plot(history.history['loss'],color='red',label='train')\n",
    "plt.plot(history.history['val_loss'],color='blue',label='validation')\n",
    "plt.legend()\n",
    "plt.show()"
   ]
  }
 ],
 "metadata": {
  "kernelspec": {
   "display_name": "Python 3",
   "language": "python",
   "name": "python3"
  },
  "language_info": {
   "codemirror_mode": {
    "name": "ipython",
    "version": 3
   },
   "file_extension": ".py",
   "mimetype": "text/x-python",
   "name": "python",
   "nbconvert_exporter": "python",
   "pygments_lexer": "ipython3",
   "version": "3.10.6"
  },
  "orig_nbformat": 4
 },
 "nbformat": 4,
 "nbformat_minor": 2
}
